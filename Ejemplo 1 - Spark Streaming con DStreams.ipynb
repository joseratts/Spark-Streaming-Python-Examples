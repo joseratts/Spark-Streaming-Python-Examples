{
 "cells": [
  {
   "cell_type": "markdown",
   "metadata": {},
   "source": [
    "Primer ejercicio de Spark Streaming usando el API DStream.\n",
    "DStream fue la primera API de Spark para procesamiento de Streams y consiste en una secuencia de RDDs, aunque está siendo desplazada por Structured Streaming, todavía hay proyectos en etapa desarrollo que han optado por DStream para su salida a producción. "
   ]
  },
  {
   "cell_type": "code",
   "execution_count": null,
   "metadata": {},
   "outputs": [],
   "source": [
    "from pyspark import SparkContext\n",
    "from pyspark.streaming import StreamingContext"
   ]
  },
  {
   "cell_type": "code",
   "execution_count": null,
   "metadata": {},
   "outputs": [],
   "source": [
    "# Create a local StreamingContext with two working thread and batch interval of 5 seconds\n",
    "sc = SparkContext(\"local[2]\", \"NetworkWordCount\")\n",
    "ssc = StreamingContext(sc, 5)"
   ]
  },
  {
   "cell_type": "code",
   "execution_count": null,
   "metadata": {},
   "outputs": [],
   "source": [
    "# Create a DStream that will connect to hostname:port, like localhost:9999\n",
    "# In command line -> nc -lk 9999\n",
    "lines =ssc.socketTextStream(\"localhost\", 9999)"
   ]
  },
  {
   "cell_type": "code",
   "execution_count": null,
   "metadata": {},
   "outputs": [],
   "source": [
    "# Split each line into words\n",
    "words =lines.flatMap(lambda line:line.split(\" \"))"
   ]
  },
  {
   "cell_type": "markdown",
   "metadata": {},
   "source": [
    "La siguiente celda consiste en un ejemplo para probar las transformaciones.\n",
    "Para probar el ejemplo de la transaformación **filter**, descomentar la línea de código de la siguiente celda\n",
    "\n",
    "filteredWords = words.filter(lambda word : len(word) > 2)\n",
    "\n",
    "Presionar **shift + enter**\n",
    "\n",
    "Y posteriormente sustuir o comentar la línea de la celda siguiente\n",
    "\n",
    "*pairs = words.map(lambda word:(word, 1)*\n",
    "\n",
    "por \n",
    "\n",
    "*pairs = filteredWords.map(lambda word:(word, 1))*\n",
    "\n",
    "actualizar la celda con shift + enter y probar como son filtradas las palabras de 2 caracteres o menos"
   ]
  },
  {
   "cell_type": "code",
   "execution_count": null,
   "metadata": {},
   "outputs": [],
   "source": [
    "# Filter words less than 3 characters\n",
    "# filteredWords = words.filter(lambda word : len(word) > 2)"
   ]
  },
  {
   "cell_type": "code",
   "execution_count": null,
   "metadata": {},
   "outputs": [],
   "source": [
    "# Count each word in each batch\n",
    "pairs = words.map(lambda word:(word, 1))\n",
    "wordCounts = pairs.reduceByKey(lambda x,y: x + y)"
   ]
  },
  {
   "cell_type": "code",
   "execution_count": null,
   "metadata": {},
   "outputs": [],
   "source": [
    "# Print the first ten elements of each RDD generated in this DStream to the console\n",
    "#In python the command for output is pprint\n",
    "wordCounts.pprint()\n",
    "\n",
    "ssc.start() # Start the computation\n",
    "ssc.awaitTermination() # Wait for the computation to terminate"
   ]
  }
 ],
 "metadata": {
  "kernelspec": {
   "display_name": "Python 3",
   "language": "python",
   "name": "python3"
  },
  "language_info": {
   "codemirror_mode": {
    "name": "ipython",
    "version": 3
   },
   "file_extension": ".py",
   "mimetype": "text/x-python",
   "name": "python",
   "nbconvert_exporter": "python",
   "pygments_lexer": "ipython3",
   "version": "3.7.1"
  }
 },
 "nbformat": 4,
 "nbformat_minor": 2
}
