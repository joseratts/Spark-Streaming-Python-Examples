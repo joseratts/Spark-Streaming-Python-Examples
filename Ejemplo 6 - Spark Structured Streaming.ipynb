{
 "cells": [
  {
   "cell_type": "code",
   "execution_count": 4,
   "metadata": {},
   "outputs": [],
   "source": [
    "from pyspark.sql import SparkSession \n",
    "from pyspark.sql.functions import window\n",
    "from pyspark.sql.types import StructType"
   ]
  },
  {
   "cell_type": "code",
   "execution_count": 5,
   "metadata": {},
   "outputs": [],
   "source": [
    "spark = SparkSession\\\n",
    "        .builder\\\n",
    "        .appName(\"StructuredCSVFile\")\\\n",
    "        .getOrCreate()"
   ]
  },
  {
   "cell_type": "code",
   "execution_count": 6,
   "metadata": {},
   "outputs": [],
   "source": [
    "windowSize = \"60\"\n",
    "slideSize = \"10\"\n",
    "\n",
    "windowDuration = '{} seconds'.format(windowSize)\n",
    "slideDuration = '{} seconds'.format(slideSize)\n",
    "monitoring_dir = 'monitoring_data'"
   ]
  },
  {
   "cell_type": "code",
   "execution_count": 7,
   "metadata": {},
   "outputs": [],
   "source": [
    "spark = SparkSession\\\n",
    "    .builder\\\n",
    "    .appName(\"InteractionCount\")\\\n",
    "    .config(\"spark.eventLog.enabled\",\"true\")\\\n",
    "    .config(\"spark.eventLog.dir\",\"applicationHistory\")\\\n",
    "    .master(\"local[*]\")\\\n",
    "    .getOrCreate()"
   ]
  },
  {
   "cell_type": "code",
   "execution_count": 8,
   "metadata": {},
   "outputs": [],
   "source": [
    "userSchema = StructType().add(\"userA\",\"string\")\\\n",
    "                            .add(\"userB\",\"string\")\\\n",
    "                            .add(\"timestamp\",\"timestamp\")\\\n",
    "                            .add(\"interaction\",\"string\")"
   ]
  },
  {
   "cell_type": "code",
   "execution_count": 9,
   "metadata": {},
   "outputs": [],
   "source": [
    "twitterIDSchema = StructType().add(\"userA\",\"string\")\n",
    "twitterIDs = spark.read.schema(twitterIDSchema).csv('twitterIDs.csv')\n",
    "csvDF = spark\\\n",
    "    .readStream\\\n",
    "    .schema(userSchema)\\\n",
    "    .csv(monitoring_dir)\n",
    "\n",
    "joinedDF = csvDF.join(twitterIDs,\"userA\")"
   ]
  },
  {
   "cell_type": "code",
   "execution_count": 10,
   "metadata": {},
   "outputs": [],
   "source": [
    "interactions = joinedDF.select(joinedDF['userA'],joinedDF['interaction'],joinedDF['timestamp'])"
   ]
  },
  {
   "cell_type": "code",
   "execution_count": 11,
   "metadata": {},
   "outputs": [],
   "source": [
    "windowedCounts = interactions\\\n",
    "                .groupBy(window(interactions.timestamp, windowDuration, slideDuration),interactions.userA)\\\n",
    "                .count()"
   ]
  },
  {
   "cell_type": "code",
   "execution_count": null,
   "metadata": {},
   "outputs": [],
   "source": [
    "query = windowedCounts\\\n",
    "    .writeStream\\\n",
    "    .outputMode('complete')\\\n",
    "    .format('console')\\\n",
    "    .option('truncate','false')\\\n",
    "    .option('numRows','10000')\\\n",
    "    .trigger(processingTime='15 seconds')\\\n",
    "    .start()\n",
    "\n",
    "query.awaitTermination()"
   ]
  },
  {
   "cell_type": "code",
   "execution_count": null,
   "metadata": {},
   "outputs": [],
   "source": []
  }
 ],
 "metadata": {
  "kernelspec": {
   "display_name": "Python 3",
   "language": "python",
   "name": "python3"
  },
  "language_info": {
   "codemirror_mode": {
    "name": "ipython",
    "version": 3
   },
   "file_extension": ".py",
   "mimetype": "text/x-python",
   "name": "python",
   "nbconvert_exporter": "python",
   "pygments_lexer": "ipython3",
   "version": "3.7.1"
  }
 },
 "nbformat": 4,
 "nbformat_minor": 2
}
