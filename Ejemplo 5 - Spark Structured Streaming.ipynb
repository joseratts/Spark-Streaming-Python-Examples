{
 "cells": [
  {
   "cell_type": "markdown",
   "metadata": {},
   "source": [
    "Quinto ejercicio de Spark Structured Streaming. Lista todos datos consumidos desde un topic de kafka cuyos datos son enviados en formato JSON como por ejemplo:\n",
    "{\"nombre\":\"JOSE ANTONIO\",\"edad\":38,\"peso\":75.5,\"direccion\":\"C/ DEL LIMONERO 39, PISO 1-A\"}"
   ]
  },
  {
   "cell_type": "code",
   "execution_count": null,
   "metadata": {},
   "outputs": [],
   "source": [
    "from pyspark.sql import SparkSession \n",
    "from pyspark.sql.functions import from_json, col\n",
    "from pyspark.sql.types import *"
   ]
  },
  {
   "cell_type": "code",
   "execution_count": null,
   "metadata": {},
   "outputs": [],
   "source": [
    "spark = SparkSession\\\n",
    "        .builder\\\n",
    "        .appName(\"StructuredKafkaJSON\")\\\n",
    "        .getOrCreate()"
   ]
  },
  {
   "cell_type": "code",
   "execution_count": null,
   "metadata": {},
   "outputs": [],
   "source": [
    "# Define schema of json\n",
    "schema = StructType() \\\n",
    "        .add(\"nombre\", StringType()) \\\n",
    "        .add(\"edad\", IntegerType()) \\\n",
    "        .add(\"peso\", FloatType()) \\\n",
    "        .add(\"direccion\", StringType())"
   ]
  },
  {
   "cell_type": "code",
   "execution_count": null,
   "metadata": {},
   "outputs": [],
   "source": [
    "# Create DataSet representing the stream of input lines from kafka\n",
    "# Es necesario de antemano haber creado el topic llamado wordcount_topic\n",
    "lines = spark\\\n",
    "        .readStream\\\n",
    "        .format(\"kafka\")\\\n",
    "        .option(\"kafka.bootstrap.servers\", \"localhost:9092\")\\\n",
    "        .option(\"subscribe\", \"json_topic\")\\\n",
    "        .load()\\\n",
    "        .selectExpr(\"CAST(value AS STRING)\")\\\n",
    "        .select(from_json(col(\"value\"), schema).alias(\"parsed_value\"))\\\n",
    "        .select(\"parsed_value.*\")"
   ]
  },
  {
   "cell_type": "code",
   "execution_count": null,
   "metadata": {},
   "outputs": [],
   "source": [
    "# Una vez iniciado el procesamiento del flujo empezar a insertar elementos al topic de kafka\n",
    "# Ver resultados en la consola donde se ejecuto el jupyter notebook\n",
    "query = lines.writeStream \\\n",
    "        .outputMode(\"append\") \\\n",
    "        .format(\"console\") \\\n",
    "        .start()\n",
    "\n",
    "query.awaitTermination()"
   ]
  }
 ],
 "metadata": {
  "kernelspec": {
   "display_name": "Python 3",
   "language": "python",
   "name": "python3"
  },
  "language_info": {
   "codemirror_mode": {
    "name": "ipython",
    "version": 3
   },
   "file_extension": ".py",
   "mimetype": "text/x-python",
   "name": "python",
   "nbconvert_exporter": "python",
   "pygments_lexer": "ipython3",
   "version": "3.7.1"
  }
 },
 "nbformat": 4,
 "nbformat_minor": 2
}
