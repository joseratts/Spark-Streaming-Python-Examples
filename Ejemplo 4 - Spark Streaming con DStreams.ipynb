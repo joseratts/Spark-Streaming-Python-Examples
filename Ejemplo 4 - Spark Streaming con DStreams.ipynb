{
 "cells": [
  {
   "cell_type": "markdown",
   "metadata": {},
   "source": [
    "Cuarto ejercicio de Spark Streaming usando el API DStream.\n",
    "WordCount con ventana deslizante usando CountByValueAndWindow"
   ]
  },
  {
   "cell_type": "code",
   "execution_count": null,
   "metadata": {},
   "outputs": [],
   "source": [
    "from pyspark import SparkContext\n",
    "from pyspark.streaming import StreamingContext"
   ]
  },
  {
   "cell_type": "code",
   "execution_count": null,
   "metadata": {},
   "outputs": [],
   "source": [
    "# Function to create and setup a new StreamingContext\n",
    "def functionToCreateContext():\n",
    "    # Create a local StreamingContext with two working thread and batch interval of 5 seconds\n",
    "    sc = SparkContext(\"local[2]\", \"WindowedNetworkWordCount2\")\n",
    "    ssc = StreamingContext(sc, 5)\n",
    "    \n",
    "    # Mandatory set a checkpoint dir\n",
    "    # http://spark.apache.org/docs/latest/streaming-programming-guide.html#checkpointing\n",
    "    # Crear carpeta /checkpointDirectory2 dentro del directorio notebooks-spark o dentro del directorio Spark-Streaming-Python\n",
    "    ssc.checkpoint(\"./checkpointDirectory2\")  # set checkpoint directory\n",
    "    return ssc"
   ]
  },
  {
   "cell_type": "code",
   "execution_count": null,
   "metadata": {},
   "outputs": [],
   "source": [
    "# Get StreamingContext from checkpoint data or create a new one\n",
    "ssc = StreamingContext.getOrCreate(checkpointPath = \"./checkpointDirectory2\", setupFunc = functionToCreateContext)"
   ]
  },
  {
   "cell_type": "code",
   "execution_count": null,
   "metadata": {},
   "outputs": [],
   "source": [
    "# Create a DStream that will connect to hostname:port, like localhost:9999\n",
    "# In command line -> nc -lk 9999\n",
    "lines =ssc.socketTextStream(\"localhost\", 9999)"
   ]
  },
  {
   "cell_type": "code",
   "execution_count": null,
   "metadata": {},
   "outputs": [],
   "source": [
    "# Split each line into words\n",
    "words =lines.flatMap(lambda line:line.split(\" \"))"
   ]
  },
  {
   "cell_type": "code",
   "execution_count": null,
   "metadata": {},
   "outputs": [],
   "source": [
    "# Count each word in each batch\n",
    "windowedWordCounts = words.countByValueAndWindow(30, 10)"
   ]
  },
  {
   "cell_type": "code",
   "execution_count": null,
   "metadata": {
    "scrolled": false
   },
   "outputs": [],
   "source": [
    "# Print the first ten elements of each RDD generated in this DStream to the console\n",
    "windowedWordCounts.pprint()\n",
    "\n",
    "ssc.start() # Start the computation\n",
    "ssc.awaitTermination() # Wait for the computation to terminate"
   ]
  }
 ],
 "metadata": {
  "kernelspec": {
   "display_name": "Python 3",
   "language": "python",
   "name": "python3"
  },
  "language_info": {
   "codemirror_mode": {
    "name": "ipython",
    "version": 3
   },
   "file_extension": ".py",
   "mimetype": "text/x-python",
   "name": "python",
   "nbconvert_exporter": "python",
   "pygments_lexer": "ipython3",
   "version": "3.7.1"
  }
 },
 "nbformat": 4,
 "nbformat_minor": 2
}
